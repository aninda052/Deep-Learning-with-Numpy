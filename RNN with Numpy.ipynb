{
 "cells": [
  {
   "cell_type": "code",
   "execution_count": 2,
   "metadata": {},
   "outputs": [],
   "source": [
    "import numpy as np"
   ]
  },
  {
   "cell_type": "markdown",
   "metadata": {},
   "source": [
    "# Recurrent neural networks\n",
    "\n",
    "Recurrent Neural Networks (RNN) are very effective for sequence tasks because they have \"memory\" .They are able to this by defining a recurrence relation over timesteps which is typically the following formula -\n",
    "\n",
    "$$ S_k =f(S_{k-1}⋅W_{rec} +X_k . W_x)$$\n",
    "\n",
    "\n",
    "Where $S_k$ is the state at time $k$, $X_k$ an input at time $k$, $W_{rec}$ and $W_x$ are parameters like the weights parameters in feedforward nets ."
   ]
  },
  {
   "cell_type": "code",
   "execution_count": null,
   "metadata": {},
   "outputs": [],
   "source": []
  }
 ],
 "metadata": {
  "kernelspec": {
   "display_name": "Python 3",
   "language": "python",
   "name": "python3"
  },
  "language_info": {
   "codemirror_mode": {
    "name": "ipython",
    "version": 3
   },
   "file_extension": ".py",
   "mimetype": "text/x-python",
   "name": "python",
   "nbconvert_exporter": "python",
   "pygments_lexer": "ipython3",
   "version": "3.6.4"
  }
 },
 "nbformat": 4,
 "nbformat_minor": 2
}
